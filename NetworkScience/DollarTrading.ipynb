{
 "cells": [
  {
   "cell_type": "code",
   "execution_count": null,
   "metadata": {
    "scrolled": false
   },
   "outputs": [],
   "source": [
    "import numpy as np\n",
    "import matplotlib.pyplot as plt\n",
    "import matplotlib.animation as animation\n",
    "import matplotlib.cm as cm\n",
    "%matplotlib notebook\n",
    "\n",
    "numParticipants = 100\n",
    "numStartDollars = 100\n",
    "numIterations = 1000\n",
    "\n",
    "def animate(accounts, showColors=True):\n",
    "    def _animate(i):\n",
    "        plt.clf()\n",
    "        indices = np.argsort(accounts[i])\n",
    "        if showColors == True:\n",
    "            colors = cm.Greys([x / numParticipants for x in indices])\n",
    "        else:\n",
    "            colors = 'b'\n",
    "        plt.setp(plt.bar(np.arange(len(accounts[i])), height=np.array(accounts[i])[indices], color=colors))\n",
    "    return _animate\n",
    "\n",
    "accounts = {}\n",
    "accounts[0] = numStartDollars * np.ones(numParticipants).astype(int)\n",
    "for i in np.arange(1, numIterations):\n",
    "    change = np.zeros(numParticipants).astype(int)\n",
    "    for giverIndex, giverValue in enumerate(accounts[i-1]):\n",
    "        if (giverValue > 0):\n",
    "            change[giverIndex] = change[giverIndex] - 1\n",
    "            recipientIndex = np.random.randint(0, numParticipants)\n",
    "            while recipientIndex == giverIndex:\n",
    "                recipientIndex = np.random.randint(0, numParticipants)\n",
    "            change[recipientIndex] = change[recipientIndex] + 1\n",
    "    accounts[i] = np.array([row[0] + row[1] for row in zip(accounts[i-1], change)])\n",
    "    if i % 100 == 0:\n",
    "        accounts[i] = np.sort(accounts[i])\n",
    "    \n",
    "fig = plt.figure(figsize=(10,6))\n",
    "ani = animation.FuncAnimation(fig, animate(accounts, False), frames=numIterations, interval=100, repeat=True)\n"
   ]
  }
 ],
 "metadata": {
  "kernelspec": {
   "display_name": "Python 3",
   "language": "python",
   "name": "python3"
  },
  "language_info": {
   "codemirror_mode": {
    "name": "ipython",
    "version": 3
   },
   "file_extension": ".py",
   "mimetype": "text/x-python",
   "name": "python",
   "nbconvert_exporter": "python",
   "pygments_lexer": "ipython3",
   "version": "3.6.1"
  }
 },
 "nbformat": 4,
 "nbformat_minor": 2
}
